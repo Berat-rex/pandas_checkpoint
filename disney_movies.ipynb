{
 "cells": [
  {
   "cell_type": "code",
   "execution_count": 1,
   "id": "5954bf9b",
   "metadata": {},
   "outputs": [],
   "source": [
    "import pandas as pd"
   ]
  },
  {
   "cell_type": "code",
   "execution_count": 2,
   "id": "3caf9ef8",
   "metadata": {},
   "outputs": [],
   "source": [
    "import matplotlib.pyplot as plt"
   ]
  },
  {
   "cell_type": "code",
   "execution_count": 3,
   "id": "95e4c003",
   "metadata": {},
   "outputs": [],
   "source": [
    "import seaborn as sns"
   ]
  },
  {
   "cell_type": "code",
   "execution_count": 4,
   "id": "bd26c724",
   "metadata": {},
   "outputs": [],
   "source": [
    "import numpy as np"
   ]
  },
  {
   "cell_type": "markdown",
   "id": "00f43d85",
   "metadata": {},
   "source": [
    "# 1) Create a new dataframe named \"movies_df\" consisting of only movies."
   ]
  },
  {
   "cell_type": "code",
   "execution_count": 5,
   "id": "74bb89fc",
   "metadata": {},
   "outputs": [],
   "source": [
    "movies_df = pd.read_csv('disney_plus.csv')"
   ]
  },
  {
   "cell_type": "code",
   "execution_count": 6,
   "id": "7ee475ed",
   "metadata": {},
   "outputs": [
    {
     "name": "stdout",
     "output_type": "stream",
     "text": [
      "<class 'pandas.core.frame.DataFrame'>\n",
      "RangeIndex: 1368 entries, 0 to 1367\n",
      "Data columns (total 13 columns):\n",
      " #   Column          Non-Null Count  Dtype \n",
      "---  ------          --------------  ----- \n",
      " 0   show_id         1368 non-null   object\n",
      " 1   type            1368 non-null   object\n",
      " 2   title           1368 non-null   object\n",
      " 3   director        928 non-null    object\n",
      " 4   cast            1194 non-null   object\n",
      " 5   country         1193 non-null   object\n",
      " 6   date_added      1365 non-null   object\n",
      " 7   release_year    1368 non-null   int64 \n",
      " 8   rating          1366 non-null   object\n",
      " 9   duration        1368 non-null   int64 \n",
      " 10  listed_in       1368 non-null   object\n",
      " 11  description     1368 non-null   object\n",
      " 12  duration_units  1368 non-null   object\n",
      "dtypes: int64(2), object(11)\n",
      "memory usage: 139.1+ KB\n"
     ]
    }
   ],
   "source": [
    "movies_df.info()"
   ]
  },
  {
   "cell_type": "code",
   "execution_count": 7,
   "id": "dd881bbd",
   "metadata": {},
   "outputs": [
    {
     "data": {
      "text/plain": [
       "show_id           object\n",
       "type              object\n",
       "title             object\n",
       "director          object\n",
       "cast              object\n",
       "country           object\n",
       "date_added        object\n",
       "release_year       int64\n",
       "rating            object\n",
       "duration           int64\n",
       "listed_in         object\n",
       "description       object\n",
       "duration_units    object\n",
       "dtype: object"
      ]
     },
     "execution_count": 7,
     "metadata": {},
     "output_type": "execute_result"
    }
   ],
   "source": [
    "movies_df.dtypes"
   ]
  },
  {
   "cell_type": "code",
   "execution_count": 8,
   "id": "a440e3d8",
   "metadata": {},
   "outputs": [
    {
     "data": {
      "text/html": [
       "<div>\n",
       "<style scoped>\n",
       "    .dataframe tbody tr th:only-of-type {\n",
       "        vertical-align: middle;\n",
       "    }\n",
       "\n",
       "    .dataframe tbody tr th {\n",
       "        vertical-align: top;\n",
       "    }\n",
       "\n",
       "    .dataframe thead th {\n",
       "        text-align: right;\n",
       "    }\n",
       "</style>\n",
       "<table border=\"1\" class=\"dataframe\">\n",
       "  <thead>\n",
       "    <tr style=\"text-align: right;\">\n",
       "      <th></th>\n",
       "      <th>show_id</th>\n",
       "      <th>type</th>\n",
       "      <th>title</th>\n",
       "      <th>director</th>\n",
       "      <th>cast</th>\n",
       "      <th>country</th>\n",
       "      <th>date_added</th>\n",
       "      <th>release_year</th>\n",
       "      <th>rating</th>\n",
       "      <th>duration</th>\n",
       "      <th>listed_in</th>\n",
       "      <th>description</th>\n",
       "      <th>duration_units</th>\n",
       "    </tr>\n",
       "  </thead>\n",
       "  <tbody>\n",
       "    <tr>\n",
       "      <th>0</th>\n",
       "      <td>s1</td>\n",
       "      <td>Movie</td>\n",
       "      <td>A Spark Story</td>\n",
       "      <td>Jason Sterman, Leanne Dare</td>\n",
       "      <td>Apthon Corbin, Louis Gonzales</td>\n",
       "      <td>NaN</td>\n",
       "      <td>September 24, 2021</td>\n",
       "      <td>2021</td>\n",
       "      <td>TV-PG</td>\n",
       "      <td>88</td>\n",
       "      <td>Documentary</td>\n",
       "      <td>Two Pixar filmmakers strive to bring their uni...</td>\n",
       "      <td>min</td>\n",
       "    </tr>\n",
       "    <tr>\n",
       "      <th>1</th>\n",
       "      <td>s2</td>\n",
       "      <td>Movie</td>\n",
       "      <td>Spooky Buddies</td>\n",
       "      <td>Robert Vince</td>\n",
       "      <td>Tucker Albrizzi, Diedrich Bader, Ameko Eks Mas...</td>\n",
       "      <td>United States, Canada</td>\n",
       "      <td>September 24, 2021</td>\n",
       "      <td>2011</td>\n",
       "      <td>G</td>\n",
       "      <td>93</td>\n",
       "      <td>Comedy, Fantasy, Kids</td>\n",
       "      <td>The puppies go on a spooky adventure through a...</td>\n",
       "      <td>min</td>\n",
       "    </tr>\n",
       "    <tr>\n",
       "      <th>2</th>\n",
       "      <td>s3</td>\n",
       "      <td>Movie</td>\n",
       "      <td>The Fault in Our Stars</td>\n",
       "      <td>Josh Boone</td>\n",
       "      <td>Shailene Woodley, Ansel Elgort, Laura Dern, Sa...</td>\n",
       "      <td>United States</td>\n",
       "      <td>September 24, 2021</td>\n",
       "      <td>2014</td>\n",
       "      <td>PG-13</td>\n",
       "      <td>127</td>\n",
       "      <td>Coming of Age, Drama, Romance</td>\n",
       "      <td>Hazel and Gus share a love that sweeps them on...</td>\n",
       "      <td>min</td>\n",
       "    </tr>\n",
       "    <tr>\n",
       "      <th>3</th>\n",
       "      <td>s4</td>\n",
       "      <td>TV Show</td>\n",
       "      <td>Dog: Impossible</td>\n",
       "      <td>NaN</td>\n",
       "      <td>Matt Beisner</td>\n",
       "      <td>United States</td>\n",
       "      <td>September 22, 2021</td>\n",
       "      <td>2019</td>\n",
       "      <td>TV-PG</td>\n",
       "      <td>2</td>\n",
       "      <td>Animals &amp; Nature, Docuseries, Family</td>\n",
       "      <td>Matt Beisner uses unique approaches to modifyi...</td>\n",
       "      <td>Seasons</td>\n",
       "    </tr>\n",
       "    <tr>\n",
       "      <th>4</th>\n",
       "      <td>s5</td>\n",
       "      <td>TV Show</td>\n",
       "      <td>Spidey And His Amazing Friends</td>\n",
       "      <td>NaN</td>\n",
       "      <td>Benjamin Valic, Lily Sanfelippo, Jakari Fraser...</td>\n",
       "      <td>United States</td>\n",
       "      <td>September 22, 2021</td>\n",
       "      <td>2021</td>\n",
       "      <td>TV-Y</td>\n",
       "      <td>1</td>\n",
       "      <td>Action-Adventure, Animation, Kids</td>\n",
       "      <td>Spidey teams up with pals to become The Spidey...</td>\n",
       "      <td>Season</td>\n",
       "    </tr>\n",
       "    <tr>\n",
       "      <th>...</th>\n",
       "      <td>...</td>\n",
       "      <td>...</td>\n",
       "      <td>...</td>\n",
       "      <td>...</td>\n",
       "      <td>...</td>\n",
       "      <td>...</td>\n",
       "      <td>...</td>\n",
       "      <td>...</td>\n",
       "      <td>...</td>\n",
       "      <td>...</td>\n",
       "      <td>...</td>\n",
       "      <td>...</td>\n",
       "      <td>...</td>\n",
       "    </tr>\n",
       "    <tr>\n",
       "      <th>1363</th>\n",
       "      <td>s1364</td>\n",
       "      <td>Movie</td>\n",
       "      <td>The Sword in the Stone</td>\n",
       "      <td>Wolfgang Reitherman</td>\n",
       "      <td>Sebastian Cabot, Karl Swenson, Rickie Sorensen...</td>\n",
       "      <td>United States</td>\n",
       "      <td>October 1, 2019</td>\n",
       "      <td>1963</td>\n",
       "      <td>G</td>\n",
       "      <td>80</td>\n",
       "      <td>Action-Adventure, Animation, Comedy</td>\n",
       "      <td>Merlin trains a young orphan who's destined to...</td>\n",
       "      <td>min</td>\n",
       "    </tr>\n",
       "    <tr>\n",
       "      <th>1364</th>\n",
       "      <td>s1365</td>\n",
       "      <td>Movie</td>\n",
       "      <td>Those Calloways</td>\n",
       "      <td>Norman Tokar</td>\n",
       "      <td>Brian Keith, Vera Miles, Brandon de Wilde, Wal...</td>\n",
       "      <td>United States</td>\n",
       "      <td>October 1, 2019</td>\n",
       "      <td>1965</td>\n",
       "      <td>PG</td>\n",
       "      <td>132</td>\n",
       "      <td>Animals &amp; Nature, Drama, Family</td>\n",
       "      <td>A strong-willed family struggles to establish ...</td>\n",
       "      <td>min</td>\n",
       "    </tr>\n",
       "    <tr>\n",
       "      <th>1365</th>\n",
       "      <td>s1366</td>\n",
       "      <td>TV Show</td>\n",
       "      <td>Disney Kirby Buckets</td>\n",
       "      <td>NaN</td>\n",
       "      <td>Jacob Bertrand, Mekai Curtis, Cade Sutton, Oli...</td>\n",
       "      <td>United States</td>\n",
       "      <td>NaN</td>\n",
       "      <td>2014</td>\n",
       "      <td>TV-Y7</td>\n",
       "      <td>3</td>\n",
       "      <td>Action-Adventure, Comedy, Coming of Age</td>\n",
       "      <td>Welcome to Kirby's world! It's rude and sketchy.</td>\n",
       "      <td>Seasons</td>\n",
       "    </tr>\n",
       "    <tr>\n",
       "      <th>1366</th>\n",
       "      <td>s1367</td>\n",
       "      <td>TV Show</td>\n",
       "      <td>Disney Mech-X4</td>\n",
       "      <td>NaN</td>\n",
       "      <td>Nathaniel Potvin, Raymond Cham, Kamran Lucas, ...</td>\n",
       "      <td>Canada</td>\n",
       "      <td>NaN</td>\n",
       "      <td>2016</td>\n",
       "      <td>TV-Y7</td>\n",
       "      <td>2</td>\n",
       "      <td>Action-Adventure, Comedy, Science Fiction</td>\n",
       "      <td>Ryan discovers his ability to control a giant ...</td>\n",
       "      <td>Seasons</td>\n",
       "    </tr>\n",
       "    <tr>\n",
       "      <th>1367</th>\n",
       "      <td>s1368</td>\n",
       "      <td>TV Show</td>\n",
       "      <td>Imagination Movers</td>\n",
       "      <td>NaN</td>\n",
       "      <td>Rich Collins, Dave Poche, Scott Durbin, Scott ...</td>\n",
       "      <td>United States</td>\n",
       "      <td>NaN</td>\n",
       "      <td>2008</td>\n",
       "      <td>TV-Y</td>\n",
       "      <td>3</td>\n",
       "      <td>Kids, Music</td>\n",
       "      <td>Rock out with the Imagination Movers, Disney J...</td>\n",
       "      <td>Seasons</td>\n",
       "    </tr>\n",
       "  </tbody>\n",
       "</table>\n",
       "<p>1368 rows × 13 columns</p>\n",
       "</div>"
      ],
      "text/plain": [
       "     show_id     type                           title  \\\n",
       "0         s1    Movie                   A Spark Story   \n",
       "1         s2    Movie                  Spooky Buddies   \n",
       "2         s3    Movie          The Fault in Our Stars   \n",
       "3         s4  TV Show                 Dog: Impossible   \n",
       "4         s5  TV Show  Spidey And His Amazing Friends   \n",
       "...      ...      ...                             ...   \n",
       "1363   s1364    Movie          The Sword in the Stone   \n",
       "1364   s1365    Movie                 Those Calloways   \n",
       "1365   s1366  TV Show            Disney Kirby Buckets   \n",
       "1366   s1367  TV Show                  Disney Mech-X4   \n",
       "1367   s1368  TV Show              Imagination Movers   \n",
       "\n",
       "                        director  \\\n",
       "0     Jason Sterman, Leanne Dare   \n",
       "1                   Robert Vince   \n",
       "2                     Josh Boone   \n",
       "3                            NaN   \n",
       "4                            NaN   \n",
       "...                          ...   \n",
       "1363         Wolfgang Reitherman   \n",
       "1364                Norman Tokar   \n",
       "1365                         NaN   \n",
       "1366                         NaN   \n",
       "1367                         NaN   \n",
       "\n",
       "                                                   cast  \\\n",
       "0                         Apthon Corbin, Louis Gonzales   \n",
       "1     Tucker Albrizzi, Diedrich Bader, Ameko Eks Mas...   \n",
       "2     Shailene Woodley, Ansel Elgort, Laura Dern, Sa...   \n",
       "3                                          Matt Beisner   \n",
       "4     Benjamin Valic, Lily Sanfelippo, Jakari Fraser...   \n",
       "...                                                 ...   \n",
       "1363  Sebastian Cabot, Karl Swenson, Rickie Sorensen...   \n",
       "1364  Brian Keith, Vera Miles, Brandon de Wilde, Wal...   \n",
       "1365  Jacob Bertrand, Mekai Curtis, Cade Sutton, Oli...   \n",
       "1366  Nathaniel Potvin, Raymond Cham, Kamran Lucas, ...   \n",
       "1367  Rich Collins, Dave Poche, Scott Durbin, Scott ...   \n",
       "\n",
       "                    country          date_added  release_year rating  \\\n",
       "0                       NaN  September 24, 2021          2021  TV-PG   \n",
       "1     United States, Canada  September 24, 2021          2011      G   \n",
       "2             United States  September 24, 2021          2014  PG-13   \n",
       "3             United States  September 22, 2021          2019  TV-PG   \n",
       "4             United States  September 22, 2021          2021   TV-Y   \n",
       "...                     ...                 ...           ...    ...   \n",
       "1363          United States     October 1, 2019          1963      G   \n",
       "1364          United States     October 1, 2019          1965     PG   \n",
       "1365          United States                 NaN          2014  TV-Y7   \n",
       "1366                 Canada                 NaN          2016  TV-Y7   \n",
       "1367          United States                 NaN          2008   TV-Y   \n",
       "\n",
       "      duration                                  listed_in  \\\n",
       "0           88                                Documentary   \n",
       "1           93                      Comedy, Fantasy, Kids   \n",
       "2          127              Coming of Age, Drama, Romance   \n",
       "3            2       Animals & Nature, Docuseries, Family   \n",
       "4            1          Action-Adventure, Animation, Kids   \n",
       "...        ...                                        ...   \n",
       "1363        80        Action-Adventure, Animation, Comedy   \n",
       "1364       132            Animals & Nature, Drama, Family   \n",
       "1365         3    Action-Adventure, Comedy, Coming of Age   \n",
       "1366         2  Action-Adventure, Comedy, Science Fiction   \n",
       "1367         3                                Kids, Music   \n",
       "\n",
       "                                            description duration_units  \n",
       "0     Two Pixar filmmakers strive to bring their uni...            min  \n",
       "1     The puppies go on a spooky adventure through a...            min  \n",
       "2     Hazel and Gus share a love that sweeps them on...            min  \n",
       "3     Matt Beisner uses unique approaches to modifyi...        Seasons  \n",
       "4     Spidey teams up with pals to become The Spidey...         Season  \n",
       "...                                                 ...            ...  \n",
       "1363  Merlin trains a young orphan who's destined to...            min  \n",
       "1364  A strong-willed family struggles to establish ...            min  \n",
       "1365   Welcome to Kirby's world! It's rude and sketchy.        Seasons  \n",
       "1366  Ryan discovers his ability to control a giant ...        Seasons  \n",
       "1367  Rock out with the Imagination Movers, Disney J...        Seasons  \n",
       "\n",
       "[1368 rows x 13 columns]"
      ]
     },
     "execution_count": 8,
     "metadata": {},
     "output_type": "execute_result"
    }
   ],
   "source": [
    "movies_df"
   ]
  },
  {
   "cell_type": "markdown",
   "id": "22b27584",
   "metadata": {},
   "source": [
    "# 2) Create a new dataframe named \"movie_ratings\" from movies_df that consists of the top 5 ratings by count. This dataframe should consist of only two columns, rating and count."
   ]
  },
  {
   "cell_type": "code",
   "execution_count": 9,
   "id": "982224c2",
   "metadata": {},
   "outputs": [],
   "source": [
    "movie_ratings = movies_df['rating'].value_counts()"
   ]
  },
  {
   "cell_type": "code",
   "execution_count": 10,
   "id": "cdfdb07e",
   "metadata": {},
   "outputs": [
    {
     "data": {
      "text/plain": [
       "rating\n",
       "TV-G        307\n",
       "TV-PG       275\n",
       "G           235\n",
       "PG          227\n",
       "TV-Y7       130\n",
       "TV-14        72\n",
       "PG-13        60\n",
       "TV-Y         48\n",
       "TV-Y7-FV     12\n",
       "Name: count, dtype: int64"
      ]
     },
     "execution_count": 10,
     "metadata": {},
     "output_type": "execute_result"
    }
   ],
   "source": [
    "movie_ratings"
   ]
  },
  {
   "cell_type": "code",
   "execution_count": 11,
   "id": "a595b585",
   "metadata": {},
   "outputs": [],
   "source": [
    "movie_ratings = movie_ratings.reset_index().head()"
   ]
  },
  {
   "cell_type": "code",
   "execution_count": 12,
   "id": "8aec48a8",
   "metadata": {},
   "outputs": [
    {
     "data": {
      "text/html": [
       "<div>\n",
       "<style scoped>\n",
       "    .dataframe tbody tr th:only-of-type {\n",
       "        vertical-align: middle;\n",
       "    }\n",
       "\n",
       "    .dataframe tbody tr th {\n",
       "        vertical-align: top;\n",
       "    }\n",
       "\n",
       "    .dataframe thead th {\n",
       "        text-align: right;\n",
       "    }\n",
       "</style>\n",
       "<table border=\"1\" class=\"dataframe\">\n",
       "  <thead>\n",
       "    <tr style=\"text-align: right;\">\n",
       "      <th></th>\n",
       "      <th>rating</th>\n",
       "      <th>count</th>\n",
       "    </tr>\n",
       "  </thead>\n",
       "  <tbody>\n",
       "    <tr>\n",
       "      <th>0</th>\n",
       "      <td>TV-G</td>\n",
       "      <td>307</td>\n",
       "    </tr>\n",
       "    <tr>\n",
       "      <th>1</th>\n",
       "      <td>TV-PG</td>\n",
       "      <td>275</td>\n",
       "    </tr>\n",
       "    <tr>\n",
       "      <th>2</th>\n",
       "      <td>G</td>\n",
       "      <td>235</td>\n",
       "    </tr>\n",
       "    <tr>\n",
       "      <th>3</th>\n",
       "      <td>PG</td>\n",
       "      <td>227</td>\n",
       "    </tr>\n",
       "    <tr>\n",
       "      <th>4</th>\n",
       "      <td>TV-Y7</td>\n",
       "      <td>130</td>\n",
       "    </tr>\n",
       "  </tbody>\n",
       "</table>\n",
       "</div>"
      ],
      "text/plain": [
       "  rating  count\n",
       "0   TV-G    307\n",
       "1  TV-PG    275\n",
       "2      G    235\n",
       "3     PG    227\n",
       "4  TV-Y7    130"
      ]
     },
     "execution_count": 12,
     "metadata": {},
     "output_type": "execute_result"
    }
   ],
   "source": [
    "movie_ratings"
   ]
  },
  {
   "cell_type": "code",
   "execution_count": 13,
   "id": "0d939592",
   "metadata": {},
   "outputs": [
    {
     "name": "stdout",
     "output_type": "stream",
     "text": [
      "<class 'pandas.core.frame.DataFrame'>\n",
      "RangeIndex: 5 entries, 0 to 4\n",
      "Data columns (total 2 columns):\n",
      " #   Column  Non-Null Count  Dtype \n",
      "---  ------  --------------  ----- \n",
      " 0   rating  5 non-null      object\n",
      " 1   count   5 non-null      int64 \n",
      "dtypes: int64(1), object(1)\n",
      "memory usage: 212.0+ bytes\n"
     ]
    }
   ],
   "source": [
    "movie_ratings.info()"
   ]
  },
  {
   "cell_type": "code",
   "execution_count": 14,
   "id": "e013af57",
   "metadata": {},
   "outputs": [
    {
     "data": {
      "text/plain": [
       "0    307\n",
       "1    275\n",
       "2    235\n",
       "3    227\n",
       "4    130\n",
       "Name: count, dtype: int64"
      ]
     },
     "execution_count": 14,
     "metadata": {},
     "output_type": "execute_result"
    }
   ],
   "source": [
    "movie_ratings['count']"
   ]
  },
  {
   "cell_type": "markdown",
   "id": "23f57e5a",
   "metadata": {},
   "source": [
    "# 3) Use the movie_ratings dataframe to create a bar chart showing count of the top 5 ratings."
   ]
  },
  {
   "cell_type": "code",
   "execution_count": 15,
   "id": "c4c19792",
   "metadata": {},
   "outputs": [
    {
     "data": {
      "text/plain": [
       "<Axes: xlabel='count', ylabel='rating'>"
      ]
     },
     "execution_count": 15,
     "metadata": {},
     "output_type": "execute_result"
    },
    {
     "data": {
      "image/png": "[encoded data removed]",
      "text/plain": [
       "<Figure size 640x480 with 1 Axes>"
      ]
     },
     "metadata": {},
     "output_type": "display_data"
    }
   ],
   "source": [
    "sns.barplot(movie_ratings,x='count', y='rating')"
   ]
  },
  {
   "cell_type": "code",
   "execution_count": null,
   "id": "0e52363d",
   "metadata": {},
   "outputs": [],
   "source": []
  },
  {
   "cell_type": "markdown",
   "id": "e5e5114a",
   "metadata": {},
   "source": [
    "# 4) Using the movies_df, subset the data to create a new dataframe named \"year_duration\" that only consists of 2 columns, release_year and duration."
   ]
  },
  {
   "cell_type": "code",
   "execution_count": 16,
   "id": "0f67c5bd",
   "metadata": {},
   "outputs": [],
   "source": [
    "year_duration = movies_df[['release_year', 'duration']]"
   ]
  },
  {
   "cell_type": "code",
   "execution_count": 17,
   "id": "c05074e0",
   "metadata": {},
   "outputs": [
    {
     "data": {
      "text/html": [
       "<div>\n",
       "<style scoped>\n",
       "    .dataframe tbody tr th:only-of-type {\n",
       "        vertical-align: middle;\n",
       "    }\n",
       "\n",
       "    .dataframe tbody tr th {\n",
       "        vertical-align: top;\n",
       "    }\n",
       "\n",
       "    .dataframe thead th {\n",
       "        text-align: right;\n",
       "    }\n",
       "</style>\n",
       "<table border=\"1\" class=\"dataframe\">\n",
       "  <thead>\n",
       "    <tr style=\"text-align: right;\">\n",
       "      <th></th>\n",
       "      <th>release_year</th>\n",
       "      <th>duration</th>\n",
       "    </tr>\n",
       "  </thead>\n",
       "  <tbody>\n",
       "    <tr>\n",
       "      <th>0</th>\n",
       "      <td>2021</td>\n",
       "      <td>88</td>\n",
       "    </tr>\n",
       "    <tr>\n",
       "      <th>1</th>\n",
       "      <td>2011</td>\n",
       "      <td>93</td>\n",
       "    </tr>\n",
       "    <tr>\n",
       "      <th>2</th>\n",
       "      <td>2014</td>\n",
       "      <td>127</td>\n",
       "    </tr>\n",
       "    <tr>\n",
       "      <th>3</th>\n",
       "      <td>2019</td>\n",
       "      <td>2</td>\n",
       "    </tr>\n",
       "    <tr>\n",
       "      <th>4</th>\n",
       "      <td>2021</td>\n",
       "      <td>1</td>\n",
       "    </tr>\n",
       "    <tr>\n",
       "      <th>...</th>\n",
       "      <td>...</td>\n",
       "      <td>...</td>\n",
       "    </tr>\n",
       "    <tr>\n",
       "      <th>1363</th>\n",
       "      <td>1963</td>\n",
       "      <td>80</td>\n",
       "    </tr>\n",
       "    <tr>\n",
       "      <th>1364</th>\n",
       "      <td>1965</td>\n",
       "      <td>132</td>\n",
       "    </tr>\n",
       "    <tr>\n",
       "      <th>1365</th>\n",
       "      <td>2014</td>\n",
       "      <td>3</td>\n",
       "    </tr>\n",
       "    <tr>\n",
       "      <th>1366</th>\n",
       "      <td>2016</td>\n",
       "      <td>2</td>\n",
       "    </tr>\n",
       "    <tr>\n",
       "      <th>1367</th>\n",
       "      <td>2008</td>\n",
       "      <td>3</td>\n",
       "    </tr>\n",
       "  </tbody>\n",
       "</table>\n",
       "<p>1368 rows × 2 columns</p>\n",
       "</div>"
      ],
      "text/plain": [
       "      release_year  duration\n",
       "0             2021        88\n",
       "1             2011        93\n",
       "2             2014       127\n",
       "3             2019         2\n",
       "4             2021         1\n",
       "...            ...       ...\n",
       "1363          1963        80\n",
       "1364          1965       132\n",
       "1365          2014         3\n",
       "1366          2016         2\n",
       "1367          2008         3\n",
       "\n",
       "[1368 rows x 2 columns]"
      ]
     },
     "execution_count": 17,
     "metadata": {},
     "output_type": "execute_result"
    }
   ],
   "source": [
    "year_duration"
   ]
  },
  {
   "cell_type": "markdown",
   "id": "3055563c",
   "metadata": {},
   "source": [
    "# 5) Find min, max, and average duration of movies from the 1975-1984."
   ]
  },
  {
   "cell_type": "code",
   "execution_count": 18,
   "id": "2188045a",
   "metadata": {},
   "outputs": [],
   "source": [
    "years_1975_1984 = year_duration[(year_duration['release_year'] >= 1975) & (year_duration['release_year'] <= 1984)].sort_values(['release_year', 'duration'], ascending = False)"
   ]
  },
  {
   "cell_type": "code",
   "execution_count": 19,
   "id": "d81a87fd",
   "metadata": {},
   "outputs": [
    {
     "data": {
      "text/html": [
       "<div>\n",
       "<style scoped>\n",
       "    .dataframe tbody tr th:only-of-type {\n",
       "        vertical-align: middle;\n",
       "    }\n",
       "\n",
       "    .dataframe tbody tr th {\n",
       "        vertical-align: top;\n",
       "    }\n",
       "\n",
       "    .dataframe thead th {\n",
       "        text-align: right;\n",
       "    }\n",
       "</style>\n",
       "<table border=\"1\" class=\"dataframe\">\n",
       "  <thead>\n",
       "    <tr style=\"text-align: right;\">\n",
       "      <th></th>\n",
       "      <th>release_year</th>\n",
       "      <th>duration</th>\n",
       "    </tr>\n",
       "  </thead>\n",
       "  <tbody>\n",
       "    <tr>\n",
       "      <th>549</th>\n",
       "      <td>1984</td>\n",
       "      <td>110</td>\n",
       "    </tr>\n",
       "    <tr>\n",
       "      <th>173</th>\n",
       "      <td>1984</td>\n",
       "      <td>97</td>\n",
       "    </tr>\n",
       "    <tr>\n",
       "      <th>825</th>\n",
       "      <td>1984</td>\n",
       "      <td>27</td>\n",
       "    </tr>\n",
       "    <tr>\n",
       "      <th>1166</th>\n",
       "      <td>1984</td>\n",
       "      <td>2</td>\n",
       "    </tr>\n",
       "    <tr>\n",
       "      <th>1140</th>\n",
       "      <td>1983</td>\n",
       "      <td>135</td>\n",
       "    </tr>\n",
       "    <tr>\n",
       "      <th>1000</th>\n",
       "      <td>1983</td>\n",
       "      <td>26</td>\n",
       "    </tr>\n",
       "    <tr>\n",
       "      <th>1315</th>\n",
       "      <td>1982</td>\n",
       "      <td>96</td>\n",
       "    </tr>\n",
       "    <tr>\n",
       "      <th>1131</th>\n",
       "      <td>1982</td>\n",
       "      <td>1</td>\n",
       "    </tr>\n",
       "    <tr>\n",
       "      <th>652</th>\n",
       "      <td>1981</td>\n",
       "      <td>100</td>\n",
       "    </tr>\n",
       "    <tr>\n",
       "      <th>1208</th>\n",
       "      <td>1981</td>\n",
       "      <td>98</td>\n",
       "    </tr>\n",
       "    <tr>\n",
       "      <th>1201</th>\n",
       "      <td>1981</td>\n",
       "      <td>85</td>\n",
       "    </tr>\n",
       "    <tr>\n",
       "      <th>1142</th>\n",
       "      <td>1980</td>\n",
       "      <td>127</td>\n",
       "    </tr>\n",
       "    <tr>\n",
       "      <th>862</th>\n",
       "      <td>1980</td>\n",
       "      <td>93</td>\n",
       "    </tr>\n",
       "    <tr>\n",
       "      <th>1204</th>\n",
       "      <td>1980</td>\n",
       "      <td>93</td>\n",
       "    </tr>\n",
       "    <tr>\n",
       "      <th>1151</th>\n",
       "      <td>1980</td>\n",
       "      <td>47</td>\n",
       "    </tr>\n",
       "    <tr>\n",
       "      <th>1183</th>\n",
       "      <td>1979</td>\n",
       "      <td>98</td>\n",
       "    </tr>\n",
       "    <tr>\n",
       "      <th>1235</th>\n",
       "      <td>1979</td>\n",
       "      <td>95</td>\n",
       "    </tr>\n",
       "    <tr>\n",
       "      <th>1322</th>\n",
       "      <td>1979</td>\n",
       "      <td>93</td>\n",
       "    </tr>\n",
       "    <tr>\n",
       "      <th>1173</th>\n",
       "      <td>1979</td>\n",
       "      <td>89</td>\n",
       "    </tr>\n",
       "    <tr>\n",
       "      <th>1133</th>\n",
       "      <td>1979</td>\n",
       "      <td>1</td>\n",
       "    </tr>\n",
       "    <tr>\n",
       "      <th>1361</th>\n",
       "      <td>1978</td>\n",
       "      <td>104</td>\n",
       "    </tr>\n",
       "    <tr>\n",
       "      <th>700</th>\n",
       "      <td>1978</td>\n",
       "      <td>101</td>\n",
       "    </tr>\n",
       "    <tr>\n",
       "      <th>1087</th>\n",
       "      <td>1978</td>\n",
       "      <td>94</td>\n",
       "    </tr>\n",
       "    <tr>\n",
       "      <th>516</th>\n",
       "      <td>1978</td>\n",
       "      <td>25</td>\n",
       "    </tr>\n",
       "    <tr>\n",
       "      <th>1137</th>\n",
       "      <td>1977</td>\n",
       "      <td>125</td>\n",
       "    </tr>\n",
       "    <tr>\n",
       "      <th>863</th>\n",
       "      <td>1977</td>\n",
       "      <td>105</td>\n",
       "    </tr>\n",
       "    <tr>\n",
       "      <th>1253</th>\n",
       "      <td>1977</td>\n",
       "      <td>78</td>\n",
       "    </tr>\n",
       "    <tr>\n",
       "      <th>1231</th>\n",
       "      <td>1977</td>\n",
       "      <td>75</td>\n",
       "    </tr>\n",
       "    <tr>\n",
       "      <th>394</th>\n",
       "      <td>1977</td>\n",
       "      <td>56</td>\n",
       "    </tr>\n",
       "    <tr>\n",
       "      <th>492</th>\n",
       "      <td>1977</td>\n",
       "      <td>48</td>\n",
       "    </tr>\n",
       "    <tr>\n",
       "      <th>1312</th>\n",
       "      <td>1976</td>\n",
       "      <td>116</td>\n",
       "    </tr>\n",
       "    <tr>\n",
       "      <th>851</th>\n",
       "      <td>1976</td>\n",
       "      <td>97</td>\n",
       "    </tr>\n",
       "    <tr>\n",
       "      <th>1261</th>\n",
       "      <td>1976</td>\n",
       "      <td>92</td>\n",
       "    </tr>\n",
       "    <tr>\n",
       "      <th>216</th>\n",
       "      <td>1976</td>\n",
       "      <td>5</td>\n",
       "    </tr>\n",
       "    <tr>\n",
       "      <th>1172</th>\n",
       "      <td>1975</td>\n",
       "      <td>100</td>\n",
       "    </tr>\n",
       "    <tr>\n",
       "      <th>806</th>\n",
       "      <td>1975</td>\n",
       "      <td>98</td>\n",
       "    </tr>\n",
       "    <tr>\n",
       "      <th>1267</th>\n",
       "      <td>1975</td>\n",
       "      <td>92</td>\n",
       "    </tr>\n",
       "    <tr>\n",
       "      <th>514</th>\n",
       "      <td>1975</td>\n",
       "      <td>90</td>\n",
       "    </tr>\n",
       "  </tbody>\n",
       "</table>\n",
       "</div>"
      ],
      "text/plain": [
       "      release_year  duration\n",
       "549           1984       110\n",
       "173           1984        97\n",
       "825           1984        27\n",
       "1166          1984         2\n",
       "1140          1983       135\n",
       "1000          1983        26\n",
       "1315          1982        96\n",
       "1131          1982         1\n",
       "652           1981       100\n",
       "1208          1981        98\n",
       "1201          1981        85\n",
       "1142          1980       127\n",
       "862           1980        93\n",
       "1204          1980        93\n",
       "1151          1980        47\n",
       "1183          1979        98\n",
       "1235          1979        95\n",
       "1322          1979        93\n",
       "1173          1979        89\n",
       "1133          1979         1\n",
       "1361          1978       104\n",
       "700           1978       101\n",
       "1087          1978        94\n",
       "516           1978        25\n",
       "1137          1977       125\n",
       "863           1977       105\n",
       "1253          1977        78\n",
       "1231          1977        75\n",
       "394           1977        56\n",
       "492           1977        48\n",
       "1312          1976       116\n",
       "851           1976        97\n",
       "1261          1976        92\n",
       "216           1976         5\n",
       "1172          1975       100\n",
       "806           1975        98\n",
       "1267          1975        92\n",
       "514           1975        90"
      ]
     },
     "execution_count": 19,
     "metadata": {},
     "output_type": "execute_result"
    }
   ],
   "source": [
    "years_1975_1984"
   ]
  },
  {
   "cell_type": "code",
   "execution_count": 20,
   "id": "5dd6fed0",
   "metadata": {},
   "outputs": [
    {
     "data": {
      "text/plain": [
       "release_year    1984\n",
       "duration         135\n",
       "dtype: int64"
      ]
     },
     "execution_count": 20,
     "metadata": {},
     "output_type": "execute_result"
    }
   ],
   "source": [
    "years_1975_1984.max()"
   ]
  },
  {
   "cell_type": "code",
   "execution_count": 21,
   "id": "87bf17c7",
   "metadata": {},
   "outputs": [
    {
     "data": {
      "text/plain": [
       "release_year    1975\n",
       "duration           1\n",
       "dtype: int64"
      ]
     },
     "execution_count": 21,
     "metadata": {},
     "output_type": "execute_result"
    }
   ],
   "source": [
    "years_1975_1984.min()"
   ]
  },
  {
   "cell_type": "code",
   "execution_count": 22,
   "id": "4dbebeb4",
   "metadata": {},
   "outputs": [
    {
     "data": {
      "text/plain": [
       "release_year    1979.000000\n",
       "duration          79.315789\n",
       "dtype: float64"
      ]
     },
     "execution_count": 22,
     "metadata": {},
     "output_type": "execute_result"
    }
   ],
   "source": [
    "years_1975_1984.mean()"
   ]
  },
  {
   "cell_type": "code",
   "execution_count": 23,
   "id": "15995c71",
   "metadata": {},
   "outputs": [
    {
     "data": {
      "text/html": [
       "<div>\n",
       "<style scoped>\n",
       "    .dataframe tbody tr th:only-of-type {\n",
       "        vertical-align: middle;\n",
       "    }\n",
       "\n",
       "    .dataframe tbody tr th {\n",
       "        vertical-align: top;\n",
       "    }\n",
       "\n",
       "    .dataframe thead th {\n",
       "        text-align: right;\n",
       "    }\n",
       "</style>\n",
       "<table border=\"1\" class=\"dataframe\">\n",
       "  <thead>\n",
       "    <tr style=\"text-align: right;\">\n",
       "      <th></th>\n",
       "      <th>release_year</th>\n",
       "      <th>duration</th>\n",
       "    </tr>\n",
       "  </thead>\n",
       "  <tbody>\n",
       "    <tr>\n",
       "      <th>count</th>\n",
       "      <td>38.000000</td>\n",
       "      <td>38.000000</td>\n",
       "    </tr>\n",
       "    <tr>\n",
       "      <th>mean</th>\n",
       "      <td>1979.000000</td>\n",
       "      <td>79.315789</td>\n",
       "    </tr>\n",
       "    <tr>\n",
       "      <th>std</th>\n",
       "      <td>2.818855</td>\n",
       "      <td>37.041325</td>\n",
       "    </tr>\n",
       "    <tr>\n",
       "      <th>min</th>\n",
       "      <td>1975.000000</td>\n",
       "      <td>1.000000</td>\n",
       "    </tr>\n",
       "    <tr>\n",
       "      <th>25%</th>\n",
       "      <td>1977.000000</td>\n",
       "      <td>60.750000</td>\n",
       "    </tr>\n",
       "    <tr>\n",
       "      <th>50%</th>\n",
       "      <td>1979.000000</td>\n",
       "      <td>93.000000</td>\n",
       "    </tr>\n",
       "    <tr>\n",
       "      <th>75%</th>\n",
       "      <td>1981.000000</td>\n",
       "      <td>99.500000</td>\n",
       "    </tr>\n",
       "    <tr>\n",
       "      <th>max</th>\n",
       "      <td>1984.000000</td>\n",
       "      <td>135.000000</td>\n",
       "    </tr>\n",
       "  </tbody>\n",
       "</table>\n",
       "</div>"
      ],
      "text/plain": [
       "       release_year    duration\n",
       "count     38.000000   38.000000\n",
       "mean    1979.000000   79.315789\n",
       "std        2.818855   37.041325\n",
       "min     1975.000000    1.000000\n",
       "25%     1977.000000   60.750000\n",
       "50%     1979.000000   93.000000\n",
       "75%     1981.000000   99.500000\n",
       "max     1984.000000  135.000000"
      ]
     },
     "execution_count": 23,
     "metadata": {},
     "output_type": "execute_result"
    }
   ],
   "source": [
    "years_1975_1984.describe()"
   ]
  },
  {
   "cell_type": "code",
   "execution_count": null,
   "id": "75576e70",
   "metadata": {},
   "outputs": [],
   "source": []
  },
  {
   "cell_type": "markdown",
   "id": "734b3012",
   "metadata": {},
   "source": [
    "# 6) Create a scatterplot using year_duration that looks at movie durations over the years. Do you notice any correlation from inspecting the scatterplot?"
   ]
  },
  {
   "cell_type": "code",
   "execution_count": 24,
   "id": "18a0d23e",
   "metadata": {},
   "outputs": [
    {
     "data": {
      "image/png": "[encoded data removed]",
      "text/plain": [
       "<Figure size 640x480 with 1 Axes>"
      ]
     },
     "metadata": {},
     "output_type": "display_data"
    }
   ],
   "source": [
    "sns.scatterplot(year_duration,x='duration', y='release_year');"
   ]
  },
  {
   "cell_type": "code",
   "execution_count": 25,
   "id": "edfb46ec",
   "metadata": {},
   "outputs": [
    {
     "data": {
      "image/png": "[encoded data removed]",
      "text/plain": [
       "<Figure size 640x480 with 1 Axes>"
      ]
     },
     "metadata": {},
     "output_type": "display_data"
    }
   ],
   "source": [
    "sns.scatterplot(years_1975_1984,x='duration', y='release_year');"
   ]
  },
  {
   "cell_type": "code",
   "execution_count": 26,
   "id": "1709eb40",
   "metadata": {},
   "outputs": [],
   "source": [
    "# The correlation I notice from inspecting the scatterplot is that regardless of the year, the duration of movies average around 100 minutes."
   ]
  },
  {
   "cell_type": "markdown",
   "id": "a307b53e",
   "metadata": {},
   "source": [
    "# 7) Find the actual correlation value, is there any correlation?"
   ]
  },
  {
   "cell_type": "code",
   "execution_count": 27,
   "id": "2a812545",
   "metadata": {},
   "outputs": [
    {
     "data": {
      "text/plain": [
       "-0.038931046383272765"
      ]
     },
     "execution_count": 27,
     "metadata": {},
     "output_type": "execute_result"
    }
   ],
   "source": [
    "year_duration['release_year'].corr(year_duration['duration'])"
   ]
  },
  {
   "cell_type": "code",
   "execution_count": 28,
   "id": "ba2b858f",
   "metadata": {},
   "outputs": [
    {
     "data": {
      "text/plain": [
       "-0.183003069996929"
      ]
     },
     "execution_count": 28,
     "metadata": {},
     "output_type": "execute_result"
    }
   ],
   "source": [
    "years_1975_1984['release_year'].corr(years_1975_1984['duration'])"
   ]
  },
  {
   "cell_type": "markdown",
   "id": "2c4194d7",
   "metadata": {},
   "source": [
    "# 8) Use movie_df to find which year had the most G-rated releases. Can you do this in a single line of code?"
   ]
  },
  {
   "cell_type": "code",
   "execution_count": 29,
   "id": "902f56b8",
   "metadata": {},
   "outputs": [
    {
     "data": {
      "text/html": [
       "<div>\n",
       "<style scoped>\n",
       "    .dataframe tbody tr th:only-of-type {\n",
       "        vertical-align: middle;\n",
       "    }\n",
       "\n",
       "    .dataframe tbody tr th {\n",
       "        vertical-align: top;\n",
       "    }\n",
       "\n",
       "    .dataframe thead th {\n",
       "        text-align: right;\n",
       "    }\n",
       "</style>\n",
       "<table border=\"1\" class=\"dataframe\">\n",
       "  <thead>\n",
       "    <tr style=\"text-align: right;\">\n",
       "      <th></th>\n",
       "      <th>release_year</th>\n",
       "      <th>count</th>\n",
       "    </tr>\n",
       "  </thead>\n",
       "  <tbody>\n",
       "    <tr>\n",
       "      <th>0</th>\n",
       "      <td>2003</td>\n",
       "      <td>12</td>\n",
       "    </tr>\n",
       "  </tbody>\n",
       "</table>\n",
       "</div>"
      ],
      "text/plain": [
       "   release_year  count\n",
       "0          2003     12"
      ]
     },
     "execution_count": 29,
     "metadata": {},
     "output_type": "execute_result"
    }
   ],
   "source": [
    "g_rated_year = movies_df.loc[movies_df['rating'] == 'G']['release_year'].value_counts().reset_index().head(1)\n",
    "g_rated_year"
   ]
  },
  {
   "cell_type": "code",
   "execution_count": null,
   "id": "0d09e46b",
   "metadata": {},
   "outputs": [],
   "source": []
  },
  {
   "cell_type": "markdown",
   "id": "529e6480",
   "metadata": {},
   "source": [
    "# 9) Which year had the most movie releases? What percentage of movies that year had durations over 2 hours?\n",
    "\n"
   ]
  },
  {
   "cell_type": "code",
   "execution_count": 44,
   "id": "e61ebbcd",
   "metadata": {},
   "outputs": [],
   "source": [
    "movies_released_per_year = movies_df.groupby('release_year')['show_id'].count().sort_values(ascending = False).reset_index().head(1)"
   ]
  },
  {
   "cell_type": "code",
   "execution_count": 45,
   "id": "50823678",
   "metadata": {},
   "outputs": [
    {
     "data": {
      "text/html": [
       "<div>\n",
       "<style scoped>\n",
       "    .dataframe tbody tr th:only-of-type {\n",
       "        vertical-align: middle;\n",
       "    }\n",
       "\n",
       "    .dataframe tbody tr th {\n",
       "        vertical-align: top;\n",
       "    }\n",
       "\n",
       "    .dataframe thead th {\n",
       "        text-align: right;\n",
       "    }\n",
       "</style>\n",
       "<table border=\"1\" class=\"dataframe\">\n",
       "  <thead>\n",
       "    <tr style=\"text-align: right;\">\n",
       "      <th></th>\n",
       "      <th>release_year</th>\n",
       "      <th>show_id</th>\n",
       "    </tr>\n",
       "  </thead>\n",
       "  <tbody>\n",
       "    <tr>\n",
       "      <th>0</th>\n",
       "      <td>2020</td>\n",
       "      <td>109</td>\n",
       "    </tr>\n",
       "  </tbody>\n",
       "</table>\n",
       "</div>"
      ],
      "text/plain": [
       "   release_year  show_id\n",
       "0          2020      109"
      ]
     },
     "execution_count": 45,
     "metadata": {},
     "output_type": "execute_result"
    }
   ],
   "source": [
    "movies_released_per_year"
   ]
  },
  {
   "cell_type": "code",
   "execution_count": 49,
   "id": "cfdbad97",
   "metadata": {},
   "outputs": [],
   "source": [
    "percentage_of_movie_duration_over_two_hours = movies_df[(movies_df['release_year'] == 2020) & (movies_df['duration'] > 120)]"
   ]
  },
  {
   "cell_type": "code",
   "execution_count": 50,
   "id": "eb873bef",
   "metadata": {},
   "outputs": [
    {
     "data": {
      "text/html": [
       "<div>\n",
       "<style scoped>\n",
       "    .dataframe tbody tr th:only-of-type {\n",
       "        vertical-align: middle;\n",
       "    }\n",
       "\n",
       "    .dataframe tbody tr th {\n",
       "        vertical-align: top;\n",
       "    }\n",
       "\n",
       "    .dataframe thead th {\n",
       "        text-align: right;\n",
       "    }\n",
       "</style>\n",
       "<table border=\"1\" class=\"dataframe\">\n",
       "  <thead>\n",
       "    <tr style=\"text-align: right;\">\n",
       "      <th></th>\n",
       "      <th>show_id</th>\n",
       "      <th>type</th>\n",
       "      <th>title</th>\n",
       "      <th>director</th>\n",
       "      <th>cast</th>\n",
       "      <th>country</th>\n",
       "      <th>date_added</th>\n",
       "      <th>release_year</th>\n",
       "      <th>rating</th>\n",
       "      <th>duration</th>\n",
       "      <th>listed_in</th>\n",
       "      <th>description</th>\n",
       "      <th>duration_units</th>\n",
       "    </tr>\n",
       "  </thead>\n",
       "  <tbody>\n",
       "    <tr>\n",
       "      <th>247</th>\n",
       "      <td>s248</td>\n",
       "      <td>Movie</td>\n",
       "      <td>Arendelle Castle Yule Log</td>\n",
       "      <td>NaN</td>\n",
       "      <td>NaN</td>\n",
       "      <td>United States</td>\n",
       "      <td>December 18, 2020</td>\n",
       "      <td>2020</td>\n",
       "      <td>TV-G</td>\n",
       "      <td>180</td>\n",
       "      <td>Animation, Family</td>\n",
       "      <td>Set the wintry mood for your holiday celebrati...</td>\n",
       "      <td>min</td>\n",
       "    </tr>\n",
       "    <tr>\n",
       "      <th>250</th>\n",
       "      <td>s251</td>\n",
       "      <td>Movie</td>\n",
       "      <td>Dory's Reef Cam</td>\n",
       "      <td>Michal Makarewicz</td>\n",
       "      <td>NaN</td>\n",
       "      <td>United States</td>\n",
       "      <td>December 18, 2020</td>\n",
       "      <td>2020</td>\n",
       "      <td>TV-G</td>\n",
       "      <td>182</td>\n",
       "      <td>Animation, Family</td>\n",
       "      <td>Dive into the waters below and watch the aquat...</td>\n",
       "      <td>min</td>\n",
       "    </tr>\n",
       "    <tr>\n",
       "      <th>261</th>\n",
       "      <td>s262</td>\n",
       "      <td>Movie</td>\n",
       "      <td>Safety</td>\n",
       "      <td>Reginald Hudlin</td>\n",
       "      <td>Jay Reeves, Thaddeus J. Mixson, Corinne Foxx, ...</td>\n",
       "      <td>United States</td>\n",
       "      <td>December 11, 2020</td>\n",
       "      <td>2020</td>\n",
       "      <td>PG</td>\n",
       "      <td>123</td>\n",
       "      <td>Biographical, Drama, Sports</td>\n",
       "      <td>A drama inspired by the empowering story of fo...</td>\n",
       "      <td>min</td>\n",
       "    </tr>\n",
       "    <tr>\n",
       "      <th>306</th>\n",
       "      <td>s307</td>\n",
       "      <td>Movie</td>\n",
       "      <td>Clouds</td>\n",
       "      <td>Justin Baldoni</td>\n",
       "      <td>Fin Argus, Sabrina Carpenter, Madison Iseman, ...</td>\n",
       "      <td>United States</td>\n",
       "      <td>October 16, 2020</td>\n",
       "      <td>2020</td>\n",
       "      <td>PG-13</td>\n",
       "      <td>122</td>\n",
       "      <td>Biographical, Drama, Music</td>\n",
       "      <td>A young musician with months to live turns to ...</td>\n",
       "      <td>min</td>\n",
       "    </tr>\n",
       "    <tr>\n",
       "      <th>404</th>\n",
       "      <td>s405</td>\n",
       "      <td>Movie</td>\n",
       "      <td>Hamilton</td>\n",
       "      <td>Thomas Kail</td>\n",
       "      <td>Daveed Diggs, Renée Goldsberry, Jonathan Groff...</td>\n",
       "      <td>United States</td>\n",
       "      <td>July 3, 2020</td>\n",
       "      <td>2020</td>\n",
       "      <td>PG-13</td>\n",
       "      <td>160</td>\n",
       "      <td>Biographical, Historical, Musical</td>\n",
       "      <td>The filmed version of Broadway original “Hamil...</td>\n",
       "      <td>min</td>\n",
       "    </tr>\n",
       "  </tbody>\n",
       "</table>\n",
       "</div>"
      ],
      "text/plain": [
       "    show_id   type                      title           director  \\\n",
       "247    s248  Movie  Arendelle Castle Yule Log                NaN   \n",
       "250    s251  Movie            Dory's Reef Cam  Michal Makarewicz   \n",
       "261    s262  Movie                     Safety    Reginald Hudlin   \n",
       "306    s307  Movie                     Clouds     Justin Baldoni   \n",
       "404    s405  Movie                   Hamilton        Thomas Kail   \n",
       "\n",
       "                                                  cast        country  \\\n",
       "247                                                NaN  United States   \n",
       "250                                                NaN  United States   \n",
       "261  Jay Reeves, Thaddeus J. Mixson, Corinne Foxx, ...  United States   \n",
       "306  Fin Argus, Sabrina Carpenter, Madison Iseman, ...  United States   \n",
       "404  Daveed Diggs, Renée Goldsberry, Jonathan Groff...  United States   \n",
       "\n",
       "            date_added  release_year rating  duration  \\\n",
       "247  December 18, 2020          2020   TV-G       180   \n",
       "250  December 18, 2020          2020   TV-G       182   \n",
       "261  December 11, 2020          2020     PG       123   \n",
       "306   October 16, 2020          2020  PG-13       122   \n",
       "404       July 3, 2020          2020  PG-13       160   \n",
       "\n",
       "                             listed_in  \\\n",
       "247                  Animation, Family   \n",
       "250                  Animation, Family   \n",
       "261        Biographical, Drama, Sports   \n",
       "306         Biographical, Drama, Music   \n",
       "404  Biographical, Historical, Musical   \n",
       "\n",
       "                                           description duration_units  \n",
       "247  Set the wintry mood for your holiday celebrati...            min  \n",
       "250  Dive into the waters below and watch the aquat...            min  \n",
       "261  A drama inspired by the empowering story of fo...            min  \n",
       "306  A young musician with months to live turns to ...            min  \n",
       "404  The filmed version of Broadway original “Hamil...            min  "
      ]
     },
     "execution_count": 50,
     "metadata": {},
     "output_type": "execute_result"
    }
   ],
   "source": [
    "percentage_of_movie_duration_over_two_hours"
   ]
  },
  {
   "cell_type": "markdown",
   "id": "60030181",
   "metadata": {},
   "source": [
    "# 10) Create a new column in movies_df that catagorizes each movie as either short, average, or long. Short movies should be 30 mins or less, long movies should be over 2 hours.\n",
    "\n"
   ]
  },
  {
   "cell_type": "code",
   "execution_count": null,
   "id": "81ae2ade",
   "metadata": {},
   "outputs": [],
   "source": []
  },
  {
   "cell_type": "markdown",
   "id": "6c48ecc4",
   "metadata": {},
   "source": [
    "# 11) Make a pie chart of the above movie lengths.\n",
    "\n"
   ]
  },
  {
   "cell_type": "code",
   "execution_count": null,
   "id": "2c64dd0e",
   "metadata": {},
   "outputs": [],
   "source": []
  },
  {
   "cell_type": "markdown",
   "id": "73beaaa0",
   "metadata": {},
   "source": [
    "# 12) Which movie had the greatest gap from the year it was released to the year it was added? Hint: You might want to convert the date_added column to a datetime format so that you can easily extract the year from it. What is the average number of years between release to being added?\n",
    "\n"
   ]
  },
  {
   "cell_type": "code",
   "execution_count": null,
   "id": "fb3d313b",
   "metadata": {},
   "outputs": [],
   "source": []
  },
  {
   "cell_type": "markdown",
   "id": "9f8317ef",
   "metadata": {},
   "source": [
    "# 13) How many movies were added during the first year after the pandemic lockdown? (Assume the lockdown began on March 16, 2020)\n",
    "\n"
   ]
  },
  {
   "cell_type": "code",
   "execution_count": null,
   "id": "7f9b57a0",
   "metadata": {},
   "outputs": [],
   "source": []
  },
  {
   "cell_type": "markdown",
   "id": "8ccabedd",
   "metadata": {},
   "source": [
    "# 14) How many movies have been added on your birthday?\n",
    "\n"
   ]
  },
  {
   "cell_type": "code",
   "execution_count": null,
   "id": "0ed26e30",
   "metadata": {},
   "outputs": [],
   "source": []
  },
  {
   "cell_type": "markdown",
   "id": "5f373acb",
   "metadata": {},
   "source": [
    "# 15) How many TV shows or Movies have the word 'dog' in the title regardless if it is capitalized?\n",
    "\n",
    "\n",
    "\n"
   ]
  },
  {
   "cell_type": "code",
   "execution_count": null,
   "id": "71c0eb69",
   "metadata": {},
   "outputs": [],
   "source": []
  },
  {
   "cell_type": "code",
   "execution_count": null,
   "id": "c14c2707",
   "metadata": {},
   "outputs": [],
   "source": []
  },
  {
   "cell_type": "code",
   "execution_count": null,
   "id": "39e82e69",
   "metadata": {},
   "outputs": [],
   "source": []
  },
  {
   "cell_type": "code",
   "execution_count": null,
   "id": "deeee624",
   "metadata": {},
   "outputs": [],
   "source": []
  },
  {
   "cell_type": "code",
   "execution_count": null,
   "id": "8e9a6fc3",
   "metadata": {},
   "outputs": [],
   "source": []
  },
  {
   "cell_type": "code",
   "execution_count": null,
   "id": "5f4dc5bd",
   "metadata": {},
   "outputs": [],
   "source": []
  },
  {
   "cell_type": "code",
   "execution_count": null,
   "id": "7e68a88a",
   "metadata": {},
   "outputs": [],
   "source": []
  },
  {
   "cell_type": "code",
   "execution_count": null,
   "id": "fdd9b87b",
   "metadata": {},
   "outputs": [],
   "source": []
  }
 ],
 "metadata": {
  "kernelspec": {
   "display_name": "Python 3 (ipykernel)",
   "language": "python",
   "name": "python3"
  },
  "language_info": {
   "codemirror_mode": {
    "name": "ipython",
    "version": 3
   },
   "file_extension": ".py",
   "mimetype": "text/x-python",
   "name": "python",
   "nbconvert_exporter": "python",
   "pygments_lexer": "ipython3",
   "version": "3.11.7"
  }
 },
 "nbformat": 4,
 "nbformat_minor": 5
}
